{
 "cells": [
  {
   "cell_type": "markdown",
   "metadata": {},
   "source": [
    "# Wykład 2, 2018-10-11\n",
    "$\\newcommand{dj}{\\bar{d}}$"
   ]
  },
  {
   "cell_type": "code",
   "execution_count": 4,
   "metadata": {},
   "outputs": [],
   "source": [
    "from sympy import *\n",
    "init_printing()\n",
    "S = Function('S')\n",
    "DeltaS = Symbol('DeltaS')"
   ]
  },
  {
   "cell_type": "markdown",
   "metadata": {},
   "source": [
    "### Entropia - nierówność Clausiusa (dowód)\n",
    "Założenia:\n",
    "* Bierzemy izolowany układ fizyczny złożony z części A i B złączonych **diatermiczną** ścianką.\n",
    "* W czasie przejścia z jednego stanu do innego w części A mamy cykl (stan końcowy = początkowy) pseudostatyczny.\n",
    "* W B mamy jakiś proces kwazistatyczny.\n",
    "\n",
    "Z drugiej zasady termodynamiki\n",
    "\n",
    "$$ 0 <= \\Delta S = \\Delta S_A + \\Delta S_B $$\n",
    "\n",
    "ale w A jest cykl, więc $\\Delta S_A = 0$, więc\n",
    "\n",
    "$$ \\Delta S_B >= 0 $$\n",
    "\n",
    "Jednocześnie\n",
    "\n",
    "$$ \\Delta S_B = \\int_{p_b}^{k_b} dS_b = \\int \\frac{ \\dj Q_B}{T_B} = *$$\n",
    "\n",
    "Układy były w równowadze więc $T_A = T_B$. Poza tym $\\dj Q_B + DQ_A = 0$ (bo układ jest izolowany, a w A proces nie jest kwazistatyczny). Więc\n",
    "\n",
    "$$ * = - \\oint \\frac{ D Q_A} {T_A} $$"
   ]
  },
  {
   "cell_type": "markdown",
   "metadata": {},
   "source": [
    "Więc przez wcześniejszą nierówność mamy nierówność Clausiusa:\n",
    "\n",
    "$$ \\oint \\frac{D Q_A} {T_A} \\leq 0 $$\n",
    "\n",
    "(w procesie kwazistatycznym byśmy mieli zero)"
   ]
  },
  {
   "cell_type": "markdown",
   "metadata": {},
   "source": [
    "$\\dj $ jest zarezerwowane dla form Pfaffa charakteryzujących zmiany w procesach **kwazi**statycznych. W procesach pseudostatycznych występują inne siły niż tylko te, które utrzymują proces w stanie równowagi."
   ]
  },
  {
   "cell_type": "markdown",
   "metadata": {},
   "source": [
    "Jeśi pseudostatyczny = kwazistatyczny, $D Q_A = \\dj Q_A$ i\n",
    "\n",
    "$$\\oint \\frac{DQ_A}{T_A} = \\oint \\frac{\\dj Q_A}{T_A} = \\oint dS_A = 0 $$"
   ]
  },
  {
   "cell_type": "markdown",
   "metadata": {},
   "source": [
    "### Clausius, alternatywnie\n",
    "\n",
    "Załóżmy że ten pseudostatyczny cykl $a \\to a$ rozbijemy na $a \\to p \\to a$, gdzie zakładamy że $a \\to p$ jest pseudostatyczny, ale $p \\to a$ jest kwazistatyczny."
   ]
  },
  {
   "cell_type": "markdown",
   "metadata": {},
   "source": [
    "$$ 0 \\geq \\oint \\frac{DQ_A}{T_A} = \\int_a^p \\frac{D Q_A}{T_A} + \\int_p^a \\frac{D Q_A}{T_A} = \\int_a^p \\frac{D Q_A} {T_A} + \\int_p^a \\frac{ \\dj Q}{T_A} = \\int_a^p \\frac{DQ_A}{T_A} + S_A(a) - S_A(p)$$\n",
    "\n",
    "$$ \\Delta S_A = S_A (p) - S_A(a) \\geq \\int_a^p \\frac{D Q_A}{T_A} $$\n",
    "\n",
    "$$ \\Delta S \\geq \\int \\frac{DQ}{T} $$\n",
    "To też nazywa się nierównością Clausiusa."
   ]
  },
  {
   "cell_type": "markdown",
   "metadata": {},
   "source": [
    "Zmiana entropii jest równa tej całce w przypadku kwazistatycznym."
   ]
  },
  {
   "cell_type": "markdown",
   "metadata": {},
   "source": [
    "#\n",
    "\n",
    "Bierzemy dwa układy: ($ \\lambda U_1 $, $\\lambda V_1$, $\\lambda N_1 $) i ($ (1-\\lambda) U_2 $, $(1-\\lambda) V_2$, $(1-\\lambda) N_2 $). Łączymy je ścianką przepuszczającą wszystko (taką samą, jak żadną!)."
   ]
  },
  {
   "cell_type": "markdown",
   "metadata": {},
   "source": [
    "$$ S_{1+2} ( \\lambda U_1 + (1-\\lambda) U_2, \\lambda V_1 + (1-\\lambda) V_2, \\lambda N_1 + (1-\\lambda) N_2 ) \\geq S_1 ( \\lambda U_1, \\lambda V_1, \\lambda N_1 ) + S_2 ( (1-\\lambda)...) = \\lambda S_1(U_1, V_1, N_1) + (1-\\lambda) S_2(U_2, V_2, N_2)$$"
   ]
  },
  {
   "cell_type": "markdown",
   "metadata": {},
   "source": [
    "$$ S( L U_1 + (1 -L)U_2, L V_1 + (1-L) V_2, L N_1 + (1-L) N_2) \\geq L S(U_1, V_1, N_1) + (1-L) S(U_2, V_2, N_2) $$"
   ]
  },
  {
   "cell_type": "markdown",
   "metadata": {},
   "source": [
    "Czyli funkcja S ze względu na każdy swój argument jest wklęsła:\n",
    "\n",
    "$$ f(L x_1 + (1 - L) x_2) \\geq L f(x_1) + (1-L) f(x_2) $$\n",
    "\n",
    "implikuje że funkcja jest **wklęsła** jak $1-(x-1)^2$ "
   ]
  },
  {
   "cell_type": "markdown",
   "metadata": {},
   "source": [
    "# Pochodne termodynamiczne\n",
    "\n",
    "Ściśliwości, podatności... mierzy się je doświadczalnie.\n",
    "\n",
    "$$ C_v = T (\\frac{\\partial S}{\\partial T})_{V,N} = (\\frac{\\partial U}{\\partial T})_{V, N} $$\n",
    "$$ C_p = T (\\frac{\\partial S}{\\partial T})_{p,N} \\neq (\\frac{\\partial U}{\\partial T})_{p, N}  $$\n",
    "$$ \\kappa_T = -\\frac{1}{V} (\\frac{\\partial V}{\\partial p})_{T,N} $$\n",
    "$$ \\kappa_S = -\\frac{1}{V} (\\frac{\\partial V}{\\partial p})_{S,N} $$"
   ]
  },
  {
   "cell_type": "markdown",
   "metadata": {},
   "source": [
    "Jako że\n",
    "\n",
    "$$ dU = T dS - p dV + \\mu dN $$\n",
    "\n",
    "dzieląc obustronnie przez $dT$ przy stałych V, N"
   ]
  },
  {
   "cell_type": "markdown",
   "metadata": {},
   "source": [
    "Dodatnie te współczynniki zapewniają stabilność termodynamiczną.\n",
    "\n",
    "Dla magnetyków, pojemność cieplna przy stałym momencie magnetycznym:\n",
    "\n",
    "$$ C_M = T ( \\frac{\\partial S}{\\partial T})_{M, V, N} $$\n",
    "\n",
    "Przy stałym polu:\n",
    "$$ C_H = T ( \\frac{\\partial S}{\\partial T})_{H, V, N} $$\n",
    "\n",
    "Podatność magnetyczna:\n",
    "$$ \\chi_T = ( \\frac{\\partial m}{\\partial H})_{T, V, N} $$\n",
    "\n",
    "\n",
    "$$ \\chi_S = ( \\frac{\\partial m}{\\partial H})_{S, V, N} $$"
   ]
  },
  {
   "cell_type": "markdown",
   "metadata": {},
   "source": [
    "# Transformacja Legendre'a\n",
    "\n",
    "Do entropii $S = S(U, V, N)$ stosuje się zasada maksimum.\n",
    "\n",
    "Do energii wewnętrznej $U = U(S, V, N)$ stosuje się analogiczna zasada minimum.\n",
    "\n",
    "Weźmy (dla ekstensywnego parametru $X$ który działa jak objętość)\n",
    "\n",
    "$$ S = S(U, X) $$\n",
    "\n",
    "$ (\\frac{\\partial S}{\\partial X})_u = 0 $ \n",
    "$ (\\frac{\\partial^2 S}{\\partial X^2})_u < 0 $\n",
    "\n",
    "\n",
    "$ (\\frac{\\partial U}{\\partial X})_S = - S_X / S_U = 0 $\n",
    "$ (\\frac{\\partial^2 U}{\\partial X^2})_S = (U_X)_X =  $"
   ]
  },
  {
   "cell_type": "markdown",
   "metadata": {},
   "source": [
    "### Energia swobodna Hermana Helmholtza, lekarza\n",
    "\n"
   ]
  },
  {
   "cell_type": "markdown",
   "metadata": {},
   "source": [
    "$$F = F(T, V, N)$$\n",
    "\n",
    "> transformacja Legendre'a ze względu na entropię"
   ]
  }
 ],
 "metadata": {
  "kernelspec": {
   "display_name": "Python 3",
   "language": "python",
   "name": "python3"
  },
  "language_info": {
   "codemirror_mode": {
    "name": "ipython",
    "version": 3
   },
   "file_extension": ".py",
   "mimetype": "text/x-python",
   "name": "python",
   "nbconvert_exporter": "python",
   "pygments_lexer": "ipython3",
   "version": "3.7.0"
  }
 },
 "nbformat": 4,
 "nbformat_minor": 2
}
